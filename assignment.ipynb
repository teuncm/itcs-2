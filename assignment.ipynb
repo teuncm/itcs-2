{
 "cells": [
  {
   "cell_type": "markdown",
   "id": "0",
   "metadata": {},
   "source": [
    "# Project: Stochastic and Spatial Models"
   ]
  },
  {
   "cell_type": "markdown",
   "id": "1",
   "metadata": {},
   "source": [
    "## 0. Init"
   ]
  },
  {
   "cell_type": "code",
   "execution_count": null,
   "id": "2",
   "metadata": {},
   "outputs": [],
   "source": [
    "# Arrays and analysis\n",
    "import numpy as np\n",
    "import scipy as sp\n",
    "from scipy.integrate import solve_ivp\n",
    "from scipy.optimize import curve_fit\n",
    "import pandas as pd\n",
    "import bisect\n",
    "\n",
    "# Plotting and config\n",
    "import matplotlib.pyplot as plt\n",
    "plt.rcParams[\"figure.figsize\"] = [6, 3]\n",
    "plt.rcParams['lines.linewidth'] = 1\n",
    "plt.rcParams['figure.constrained_layout.use'] = True\n",
    "\n",
    "# Misc imports\n",
    "from slugify import slugify\n",
    "from functools import partial\n",
    "import os\n",
    "\n",
    "# Important directories\n",
    "FIG_DIR = 'fig/'\n",
    "DATA_DIR = 'data/'\n",
    "\n",
    "def save_fig(title):\n",
    "    \"\"\"Save figure under normalized name.\"\"\"\n",
    "    plt.savefig(f'{FIG_DIR}/{slugify(title)}.png', bbox_inches='tight')\n",
    "\n",
    "def update_ax(props_dict):\n",
    "    \"\"\"Update current Axes with the given dictionary of properties.\"\"\"\n",
    "    plt.gca().update(props_dict)\n",
    "\n",
    "def create_dirs(path):\n",
    "    \"\"\"Create directory, do nothing if it exists.\"\"\"\n",
    "    os.makedirs(path, exist_ok=True)"
   ]
  },
  {
   "cell_type": "code",
   "execution_count": null,
   "id": "3",
   "metadata": {},
   "outputs": [],
   "source": [
    "def initialize():\n",
    "    \"\"\"Initialize project.\"\"\"\n",
    "    create_dirs(FIG_DIR)\n",
    "    create_dirs(DATA_DIR)\n",
    "\n",
    "initialize()"
   ]
  },
  {
   "cell_type": "code",
   "execution_count": null,
   "id": "4",
   "metadata": {},
   "outputs": [],
   "source": [
    "rng = np.random.default_rng()"
   ]
  },
  {
   "cell_type": "code",
   "execution_count": null,
   "id": "5",
   "metadata": {},
   "outputs": [],
   "source": [
    "def sir_first_reaction(y0, params, t_max):\n",
    "    \"\"\"Implementation of Gillespie's Direct Algorithm (DA).\"\"\"\n",
    "    X, Y, Z = y0\n",
    "    beta, gamma, mu = params\n",
    "    \n",
    "    # 1.\n",
    "    # Events and results.\n",
    "    ps = [\n",
    "        [\"birth\", (1, 0, 0)],\n",
    "        [\"transmission\", (-1, 1, 0)],\n",
    "        [\"recovery\", (0, -1, 1)],\n",
    "        [\"death_X\", (-1, 0, 0)],\n",
    "        [\"death_Y\", (0, -1, 0)],\n",
    "        [\"death_Z\", (0, 0, -1)],\n",
    "    ]\n",
    "\n",
    "    # Bookkeeping.\n",
    "    t = 0\n",
    "    ts = []\n",
    "    ys = []\n",
    "    while t < t_max:    \n",
    "        # 2.\n",
    "        N = np.sum([X, Y, Z])\n",
    "        Rs = [mu*N, beta*X*Y/N, gamma*Y, mu*X, mu*Y, mu*Z]\n",
    "        \n",
    "        # 3.\n",
    "        R_total = np.sum(Rs)\n",
    "        \n",
    "        # 4.\n",
    "        rand_1 = rng.random()\n",
    "        dt = -1 / R_total * np.log(rand_1)\n",
    "        \n",
    "        # 5.\n",
    "        rand_2 = rng.random()\n",
    "        P = rand_2 * R_total\n",
    "        \n",
    "        # 6.\n",
    "        R_cum = np.cumsum(Rs)\n",
    "        \n",
    "        # Find index of event p.\n",
    "        p_idx = np.searchsorted(R_cum, P)\n",
    "        \n",
    "        # Extract result from p.\n",
    "        p = ps[p_idx]\n",
    "        result = np.array(p[1])\n",
    "\n",
    "        X, Y, Z = np.add([X, Y, Z], result)\n",
    "        \n",
    "        # 7.\n",
    "        t += dt\n",
    "\n",
    "        # Bookkeep results.\n",
    "        ts.append(t); ys.append([X, Y, Z])\n",
    "\n",
    "    return np.array(ts), np.array(ys)"
   ]
  },
  {
   "cell_type": "code",
   "execution_count": null,
   "id": "6",
   "metadata": {},
   "outputs": [],
   "source": [
    "ts, ys = sir_first_reaction(y0=(990, 10, 0), params=(3, 1, 1/80), t_max=100)"
   ]
  },
  {
   "cell_type": "code",
   "execution_count": null,
   "id": "7",
   "metadata": {},
   "outputs": [],
   "source": [
    "# np.array(ys).shape\n",
    "\n",
    "fig, ax = plt.subplots()\n",
    "\n",
    "plt.plot(ts, ys[:, 0], color=\"r\", label=\"Susceptible\")\n",
    "plt.plot(ts, ys[:, 1], color=\"g\", label=\"Infected\")\n",
    "plt.plot(ts, ys[:, 2], color=\"b\", label=\"Recovered\")\n",
    "\n",
    "update_ax({\"xlabel\": \"t (days)\", \"ylabel\": \"population\", \"title\": \"DA\"})\n",
    "plt.legend()\n",
    "plt.show()"
   ]
  },
  {
   "cell_type": "code",
   "execution_count": null,
   "id": "8",
   "metadata": {},
   "outputs": [],
   "source": [
    "def SIR_D(t, y0, params):\n",
    "    x, y, z = y0\n",
    "    beta, gamma, mu = params\n",
    "\n",
    "    N = x + y + z\n",
    "    dx = mu*N - beta * x * y / N - mu * x\n",
    "    dy = beta * x * y / N - gamma * y - mu * y\n",
    "    dz = gamma * y - mu * z\n",
    "    return dx, dy, dz"
   ]
  },
  {
   "cell_type": "code",
   "execution_count": null,
   "id": "9",
   "metadata": {},
   "outputs": [],
   "source": [
    "plt.figure(figsize=(10,6))\n",
    "\n",
    "t_max = 300\n",
    "\n",
    "for i in range(200):\n",
    "    ts, ys = sir_first_reaction(y0=(990, 10, 0), params=(0.3, 0.1, 0.005), t_max = 300)\n",
    "    \n",
    "    # Plot the results for each trajectory\n",
    "    plt.plot(ts, ys[:,0], color='r', alpha=0.1)   \n",
    "    plt.plot(ts, ys[:,1], color='g', alpha=0.1)    \n",
    "    plt.plot(ts, ys[:,2], color='b', alpha=0.1)\n",
    "\n",
    "t_det = np.linspace(0, t_max, 500)\n",
    "sol = solve_ivp(SIR_D, [0,t_max], (990, 10, 0), args=((0.3, 0.1, 0.005),), dense_output=True)\n",
    "Z = sol.sol(t_det)\n",
    "plt.plot(t_det, Z[0],color='#b30000', linewidth=3, label='Susceptible')\n",
    "plt.plot(t_det, Z[1],color='#006600', linewidth=3, label='Infected')\n",
    "plt.plot(t_det, Z[2],color='#001f5b', linewidth=3, label='Recovered')\n",
    "\n",
    "plt.legend()\n",
    "plt.xlabel('t (days)')\n",
    "plt.ylabel('Population')\n",
    "plt.title('Gillespie Method Simulation of the SIR Model')"
   ]
  }
 ],
 "metadata": {
  "kernelspec": {
   "display_name": "Python 3",
   "language": "python",
   "name": "python3"
  },
  "language_info": {
   "codemirror_mode": {
    "name": "ipython",
    "version": 3
   },
   "file_extension": ".py",
   "mimetype": "text/x-python",
   "name": "python",
   "nbconvert_exporter": "python",
   "pygments_lexer": "ipython3",
   "version": "3.11.7"
  }
 },
 "nbformat": 4,
 "nbformat_minor": 5
}
