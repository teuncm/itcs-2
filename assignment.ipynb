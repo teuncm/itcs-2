{
 "cells": [
  {
   "cell_type": "markdown",
   "id": "0",
   "metadata": {},
   "source": [
    "# Project: Stochastic and Spatial Models"
   ]
  },
  {
   "cell_type": "markdown",
   "id": "1",
   "metadata": {},
   "source": [
    "## 0. Init"
   ]
  },
  {
   "cell_type": "code",
   "execution_count": null,
   "id": "2",
   "metadata": {},
   "outputs": [],
   "source": [
    "# Arrays and analysis\n",
    "import numpy as np\n",
    "import scipy as sp\n",
    "from scipy.integrate import solve_ivp\n",
    "from scipy.optimize import curve_fit\n",
    "import pandas as pd\n",
    "\n",
    "# Plotting and config\n",
    "import matplotlib.pyplot as plt\n",
    "plt.rcParams[\"figure.figsize\"] = [6, 3]\n",
    "plt.rcParams['lines.linewidth'] = 1\n",
    "plt.rcParams['figure.constrained_layout.use'] = True\n",
    "\n",
    "# Misc imports\n",
    "from slugify import slugify\n",
    "from functools import partial\n",
    "import os\n",
    "\n",
    "# Important directories\n",
    "FIG_DIR = 'fig/'\n",
    "DATA_DIR = 'data/'\n",
    "\n",
    "def save_fig(title):\n",
    "    \"\"\"Save figure under normalized name.\"\"\"\n",
    "    plt.savefig(f'{FIG_DIR}/{slugify(title)}.png', bbox_inches='tight')\n",
    "\n",
    "def update_ax(props_dict):\n",
    "    \"\"\"Update current Axes with the given dictionary of properties.\"\"\"\n",
    "    plt.gca().update(props_dict)\n",
    "\n",
    "def create_dirs(path):\n",
    "    \"\"\"Create directory, do nothing if it exists.\"\"\"\n",
    "    os.makedirs(path, exist_ok=True)"
   ]
  },
  {
   "cell_type": "code",
   "execution_count": null,
   "id": "3",
   "metadata": {},
   "outputs": [],
   "source": [
    "def initialize():\n",
    "    \"\"\"Initialize project.\"\"\"\n",
    "    create_dirs(FIG_DIR)\n",
    "    create_dirs(DATA_DIR)\n",
    "\n",
    "initialize()"
   ]
  },
  {
   "cell_type": "code",
   "execution_count": null,
   "id": "4",
   "metadata": {},
   "outputs": [],
   "source": []
  }
 ],
 "metadata": {
  "kernelspec": {
   "display_name": "Python 3 (ipykernel)",
   "language": "python",
   "name": "python3"
  },
  "language_info": {
   "codemirror_mode": {
    "name": "ipython",
    "version": 3
   },
   "file_extension": ".py",
   "mimetype": "text/x-python",
   "name": "python",
   "nbconvert_exporter": "python",
   "pygments_lexer": "ipython3",
   "version": "3.12.4"
  }
 },
 "nbformat": 4,
 "nbformat_minor": 5
}
